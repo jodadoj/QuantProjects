{
 "cells": [
  {
   "cell_type": "code",
   "execution_count": null,
   "metadata": {},
   "outputs": [],
   "source": [
    "import json"
   ]
  },
  {
   "attachments": {},
   "cell_type": "markdown",
   "metadata": {},
   "source": [
    "Forward, future, option calculator\n",
    "    Take the initial spot price, delivery price and (if it exists) the spot price at the time of delivery/maturity of the contract \n",
    "\n",
    "    calculate the long and short positions\n",
    "        for futures can also take the ask and bid quotes\n",
    "\n",
    "    calulate the cost of selling and buying put/calls options\n",
    "        can take ask/bid quotes for this as well\n",
    "\n",
    "If\n",
    "    K is the delivery price\n",
    "    S_0 is the spot price at time 0\n",
    "    S_T is the spot price at the time of maturity\n",
    "    C is the cost to enter the contract\n",
    "\n",
    "Can code in cpython - pypy may be better\n"
   ]
  },
  {
   "cell_type": "code",
   "execution_count": null,
   "metadata": {},
   "outputs": [],
   "source": [
    "%load_ext Cython"
   ]
  },
  {
   "cell_type": "code",
   "execution_count": null,
   "metadata": {},
   "outputs": [],
   "source": [
    "%%cython -+\n",
    "\n",
    "cdef int a = 0\n",
    "for i in range(10):\n",
    "    a += i\n",
    "print(a)"
   ]
  },
  {
   "cell_type": "code",
   "execution_count": null,
   "metadata": {},
   "outputs": [],
   "source": [
    "%%cython -+\n",
    "\n",
    "cdef cypclass Int:\n",
    "    int value\n",
    "\n",
    "    __init__(self, int value):\n",
    "        self.value = value\n",
    "\n",
    "    object __repr__(self) with gil:\n",
    "        return \"cypclass integer %d\" % self.value\n",
    "\n",
    "print(Int(42))"
   ]
  },
  {
   "attachments": {},
   "cell_type": "markdown",
   "metadata": {},
   "source": [
    "There are five basic algorithms in wide use that measure the success of a trade:\n",
    "\n",
    "1.\tVolume-weighted average price (VWAP)\n",
    "2.\tTime-weighted average price (TWAP) or time slicing\n",
    "3.\tImplementation shortfall or arrival price\n",
    "4.\tVolume participation\n",
    "5.\tSmart routing methods"
   ]
  },
  {
   "cell_type": "code",
   "execution_count": null,
   "metadata": {},
   "outputs": [],
   "source": [
    "stock_loc = '../src/output/individual_stock_data/2023-06-20/2023-06-20-ABBV-data.json'\n",
    "with open(stock_loc, 'r') as file:\n",
    "    stock_data = json.load(file)    \n",
    "    \n",
    "stock_data['ABBV']"
   ]
  },
  {
   "cell_type": "code",
   "execution_count": null,
   "metadata": {},
   "outputs": [],
   "source": [
    "stock_data['ABBV']['summaryDetail`1']"
   ]
  }
 ],
 "metadata": {
  "kernelspec": {
   "display_name": "Python 3",
   "language": "python",
   "name": "python3"
  },
  "language_info": {
   "codemirror_mode": {
    "name": "ipython",
    "version": 3
   },
   "file_extension": ".py",
   "mimetype": "text/x-python",
   "name": "python",
   "nbconvert_exporter": "python",
   "pygments_lexer": "ipython3",
   "version": "3.11.3"
  },
  "orig_nbformat": 4
 },
 "nbformat": 4,
 "nbformat_minor": 2
}
