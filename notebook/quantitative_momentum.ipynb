{
 "cells": [
  {
   "cell_type": "code",
   "execution_count": null,
   "metadata": {},
   "outputs": [],
   "source": [
    "import numpy as np\n",
    "import pandas as pd\n",
    "import requests\n",
    "import requests_cache\n",
    "import math\n",
    "from scipy import stats\n",
    "import xlsxwriter\n",
    "import datetime as dt\n",
    "import yfinance as yf\n",
    "from dotenv import load_dotenv\n",
    "session = requests_cache.CachedSession('yfinance.cache')\n",
    "session.headers['User-agent'] = 'Mozilla/5.0 (Windows NT 10.0; Win64; x64) AppleWebKit/537.36 (KHTML, like Gecko) Chrome/58.0.3029.110 Safari/537.36'"
   ]
  },
  {
   "cell_type": "code",
   "execution_count": null,
   "metadata": {},
   "outputs": [],
   "source": [
    "file_path='../src/output/2023-06-02-sp500.csv'\n",
    "stocks = pd.read_csv(file_path)\n",
    "load_dotenv()\n",
    "stocks = stocks.drop('Unnamed: 0', axis=1)\n",
    "stocks"
   ]
  },
  {
   "cell_type": "code",
   "execution_count": null,
   "metadata": {},
   "outputs": [],
   "source": [
    "tickers = yf.ti"
   ]
  },
  {
   "cell_type": "code",
   "execution_count": null,
   "metadata": {},
   "outputs": [],
   "source": [
    "today = dt.datetime.today().strftime('%Y-%m-%d')\n",
    "for symbol in stocks['Ticker']:\n",
    "    currentStock = yf.Ticker(f\"{symbol}\", session=session)\n",
    "    currentStockData = pd.DataFrame([list(currentStock.info.values())], \n",
    "                        columns=list(currentStock.info.keys()))\n",
    "    currentStockData.to_csv(f'../src/output/{today}/{today}-{symbol}-data.csv')"
   ]
  },
  {
   "cell_type": "code",
   "execution_count": null,
   "metadata": {},
   "outputs": [],
   "source": [
    "symbol = \"AAPL\"\n",
    "currentStock = yf.Ticker(f\"{symbol}\", session=session)\n",
    "currentStock.info"
   ]
  },
  {
   "cell_type": "code",
   "execution_count": null,
   "metadata": {},
   "outputs": [],
   "source": [
    "data = yf.download(\"AAPL\", period=\"1mo\", interval=\"15m\")"
   ]
  },
  {
   "cell_type": "code",
   "execution_count": null,
   "metadata": {},
   "outputs": [],
   "source": [
    "data.to_csv('../src/output/data.csv')"
   ]
  },
  {
   "cell_type": "code",
   "execution_count": null,
   "metadata": {},
   "outputs": [],
   "source": [
    "temp = pd.DataFrame([list(currentStock.info.values())], columns=list(currentStock.info.keys()))\n",
    "temp"
   ]
  },
  {
   "cell_type": "code",
   "execution_count": null,
   "metadata": {},
   "outputs": [],
   "source": [
    "symbol = \"MTCH\"\n",
    "currentStock = yf.Ticker(f\"{symbol}\", session=session)\n",
    "temp = temp.append(\n",
    "    pd.Series(\n",
    "        [\n",
    "            list(currentStock.info.values())\n",
    "        ],\n",
    "                index = list(currentStock.info.keys())\n",
    "                ),\n",
    "                ignore_index=True\n",
    ")"
   ]
  },
  {
   "cell_type": "code",
   "execution_count": null,
   "metadata": {},
   "outputs": [],
   "source": [
    "def chunks(list, n):\n",
    "    \"\"\"Yield successive n-sized chunks from list\"\"\"\n",
    "    for i in range(0, len(list), n):\n",
    "        yield list[i:i + n]\n",
    "symbol_groups = list(chunks(stocks['Ticker'], 101))\n",
    "every_str = []\n",
    "for i in range(0, len(symbol_groups)):\n",
    "    every_str.append(','.join(symbol_groups[i]))\n",
    "every_str"
   ]
  }
 ],
 "metadata": {
  "kernelspec": {
   "display_name": "Python 3",
   "language": "python",
   "name": "python3"
  },
  "language_info": {
   "codemirror_mode": {
    "name": "ipython",
    "version": 3
   },
   "file_extension": ".py",
   "mimetype": "text/x-python",
   "name": "python",
   "nbconvert_exporter": "python",
   "pygments_lexer": "ipython3",
   "version": "3.11.3"
  },
  "orig_nbformat": 4
 },
 "nbformat": 4,
 "nbformat_minor": 2
}
