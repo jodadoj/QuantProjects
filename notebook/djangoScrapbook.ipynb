{
 "cells": [
  {
   "cell_type": "code",
   "execution_count": null,
   "metadata": {},
   "outputs": [],
   "source": [
    "from django.shortcuts import render"
   ]
  },
  {
   "cell_type": "code",
   "execution_count": null,
   "metadata": {},
   "outputs": [],
   "source": [
    "\n",
    "from django.http import HttpResponse\n",
    "import os\n",
    "import json\n",
    "\n",
    "def read_json():\n",
    "    \"\"\"Reads the json\n",
    "\n",
    "    Returns:\n",
    "        _type_: _description_\n",
    "    \"\"\"\n",
    "    with open(save_path, \"r\") as file:\n",
    "        data_str = file.read()\n",
    "        # formatted = json.load(file)\n",
    "    return data_str\n",
    "    # return formatted\n",
    "\n",
    "# Create your views here.\n",
    "\n",
    "def main(request):\n",
    "    \"\"\"_summary_\n",
    "\n",
    "    Args:\n",
    "        request (_type_): _description_\n",
    "\n",
    "    Returns:\n",
    "        _type_: _description_\n",
    "    \"\"\"\n",
    "    return HttpResponse(read_json())\n"
   ]
  },
  {
   "cell_type": "code",
   "execution_count": null,
   "metadata": {},
   "outputs": [],
   "source": [
    "\n",
    "import json\n",
    "import os\n",
    "from dotenv import load_dotenv\n",
    "\n",
    "load_dotenv()\n",
    "\n",
    "save_path = os.path.realpath(\n",
    "    os.path.join(\n",
    "        os.path.dirname(__file__),\n",
    "        \"../src/output/individual_stock_data/2023-06-20/2023-06-20-MSFT-data.json\",\n",
    "    )\n",
    ")"
   ]
  }
 ],
 "metadata": {
  "language_info": {
   "name": "python"
  },
  "orig_nbformat": 4
 },
 "nbformat": 4,
 "nbformat_minor": 2
}
