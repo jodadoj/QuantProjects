{
 "cells": [
  {
   "cell_type": "code",
   "execution_count": null,
   "metadata": {},
   "outputs": [],
   "source": [
    "import datetime as dt\n",
    "import pandas as pd\n",
    "import re"
   ]
  },
  {
   "cell_type": "code",
   "execution_count": null,
   "metadata": {},
   "outputs": [],
   "source": [
    "url = 'https://en.wikipedia.org/wiki/List_of_S%26P_500_companies'\n",
    "data = pd.read_html(url)\n",
    "print(f'We have a {type(data)} with length {len(data)}')"
   ]
  },
  {
   "cell_type": "code",
   "execution_count": null,
   "metadata": {},
   "outputs": [],
   "source": [
    "first_result_set = data[0]\n",
    "first_result_set"
   ]
  },
  {
   "cell_type": "code",
   "execution_count": null,
   "metadata": {},
   "outputs": [],
   "source": [
    "second_result_set = data[1].head()\n",
    "second_result_set"
   ]
  },
  {
   "cell_type": "code",
   "execution_count": null,
   "metadata": {},
   "outputs": [],
   "source": [
    "data[0]"
   ]
  },
  {
   "cell_type": "code",
   "execution_count": null,
   "metadata": {},
   "outputs": [],
   "source": [
    "sp500 = data[0].iloc[:, [0,1,5,6]]\n",
    "sp500.columns = ['Ticker', 'Name', 'Date', 'CIK']\n",
    "third_result_set = sp500.head()\n",
    "\n",
    "third_result_set"
   ]
  },
  {
   "cell_type": "code",
   "execution_count": null,
   "metadata": {},
   "outputs": [],
   "source": [
    "sp500.isnull().sum()"
   ]
  },
  {
   "cell_type": "code",
   "execution_count": null,
   "metadata": {},
   "outputs": [],
   "source": [
    "sp500[sp500['Date'].isnull()]"
   ]
  },
  {
   "cell_type": "code",
   "execution_count": null,
   "metadata": {},
   "outputs": [],
   "source": [
    "mask = sp500['Date'].str.strip().str.fullmatch('\\d{4}-\\d{2}-\\d{2}')\n",
    "mask.loc[mask.isnull()] = False\n",
    "mask = mask == False\n",
    "\n",
    "sp500[mask]"
   ]
  },
  {
   "cell_type": "code",
   "execution_count": null,
   "metadata": {},
   "outputs": [],
   "source": [
    "current = sp500.copy()\n",
    "current.loc[mask, 'Date'] = '1900-01-01'\n",
    "current.loc[:, 'Date'] = pd.to_datetime(current['Date'])\n",
    "current.loc[:, 'CIK'] = current['CIK'].apply(str).str.zfill(10)\n",
    "\n",
    "current.head(10)"
   ]
  },
  {
   "cell_type": "code",
   "execution_count": null,
   "metadata": {},
   "outputs": [],
   "source": [
    "adjustments = data[1]\n",
    "adjustments"
   ]
  },
  {
   "cell_type": "code",
   "execution_count": null,
   "metadata": {},
   "outputs": [],
   "source": [
    "columns = ['Date', 'Ticker_Added', 'Name_Added', 'Ticker_Removed', 'Name_Removed', 'Reason']\n",
    "adjustments.columns = columns\n",
    "adjustments"
   ]
  },
  {
   "cell_type": "code",
   "execution_count": null,
   "metadata": {},
   "outputs": [],
   "source": [
    "adjustments.isnull().sum()"
   ]
  },
  {
   "cell_type": "code",
   "execution_count": null,
   "metadata": {},
   "outputs": [],
   "source": [
    "adjustments[adjustments['Ticker_Removed'].isnull()]"
   ]
  },
  {
   "cell_type": "code",
   "execution_count": null,
   "metadata": {},
   "outputs": [],
   "source": [
    "additions = adjustments[~adjustments['Ticker_Added'].isnull()][['Date', 'Ticker_Added', 'Name_Added']]\n",
    "additions.columns = ['Date','Ticker','Name']\n",
    "additions['Action'] = 'Added'\n",
    "additions\n"
   ]
  },
  {
   "cell_type": "code",
   "execution_count": null,
   "metadata": {},
   "outputs": [],
   "source": [
    "removals = adjustments[~adjustments['Ticker_Removed'].isnull()][['Date', 'Ticker_Removed', 'Name_Removed']]\n",
    "removals.columns = ['Date','Ticker','Name']\n",
    "removals['Action'] = 'Removed'\n",
    "removals"
   ]
  },
  {
   "cell_type": "code",
   "execution_count": null,
   "metadata": {},
   "outputs": [],
   "source": [
    "historical = pd.concat([additions, removals])\n",
    "historical"
   ]
  },
  {
   "cell_type": "code",
   "execution_count": null,
   "metadata": {},
   "outputs": [],
   "source": [
    "missing = current[~current['Ticker'].isin(historical['Ticker'])].copy()\n",
    "missing"
   ]
  },
  {
   "cell_type": "code",
   "execution_count": null,
   "metadata": {},
   "outputs": [],
   "source": [
    "missing['Action'] = 'Added'\n",
    "missing = missing[['Date', 'Ticker', 'Name', 'Action', 'CIK']]\n",
    "missing"
   ]
  },
  {
   "cell_type": "code",
   "execution_count": null,
   "metadata": {},
   "outputs": [],
   "source": [
    "sp500_history = pd.concat([historical, missing])\n",
    "sp500_history =sp500_history.sort_values(by=['Date', 'Ticker'], ascending=[False, True])\n",
    "sp500_history"
   ]
  },
  {
   "cell_type": "code",
   "execution_count": null,
   "metadata": {},
   "outputs": [],
   "source": [
    "today = dt.datetime.today().strftime('%Y-%m-%d')\n",
    "today"
   ]
  },
  {
   "cell_type": "code",
   "execution_count": null,
   "metadata": {},
   "outputs": [],
   "source": [
    "current.to_csv(f'{today}-sp500.csv')\n",
    "sp500_history.to_csv(f'{today}-sp500_history.csv')"
   ]
  },
  {
   "cell_type": "code",
   "execution_count": null,
   "metadata": {},
   "outputs": [],
   "source": [
    "nasdaq_url = 'https://en.wikipedia.org/w/index.php?title=Nasdaq-100'\n",
    "nasdaq_data = pd.read_html(nasdaq_url)\n",
    "print(f'We have a {type(nasdaq_data)} with length {len(data)}')\n",
    "\n",
    "nasdaq_data[4]"
   ]
  },
  {
   "cell_type": "code",
   "execution_count": null,
   "metadata": {},
   "outputs": [],
   "source": [
    "nasdaq100 = nasdaq_data[4].iloc[:, [0,1]]\n",
    "# nasdaq100 = nasdaq[~nasdaq[['Company', 'Ticker']]]\n",
    "nasdaq100.columns = ['Name', 'Ticker']\n",
    "    \n",
    "today = dt.datetime.today().strftime('%Y-%m-%d')\n",
    "\n",
    "nasdaq100.to_csv(f'{today}-nasdaq100.csv')\n",
    "\n",
    "nasdaq100"
   ]
  }
 ],
 "metadata": {
  "kernelspec": {
   "display_name": "Python 3",
   "language": "python",
   "name": "python3"
  },
  "language_info": {
   "codemirror_mode": {
    "name": "ipython",
    "version": 3
   },
   "file_extension": ".py",
   "mimetype": "text/x-python",
   "name": "python",
   "nbconvert_exporter": "python",
   "pygments_lexer": "ipython3",
   "version": "3.11.3"
  },
  "orig_nbformat": 4
 },
 "nbformat": 4,
 "nbformat_minor": 2
}
