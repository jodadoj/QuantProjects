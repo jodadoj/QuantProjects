{
 "cells": [
  {
   "cell_type": "code",
   "execution_count": null,
   "metadata": {},
   "outputs": [],
   "source": [
    "import os\n",
    "import numpy as np\n",
    "import pandas as pd\n",
    "import requests\n",
    "import xlsxwriter \n",
    "import math\n",
    "import yfinance as yf\n",
    "import datetime as dt\n",
    "from dotenv import load_dotenv\n",
    "import requests_cache\n",
    "\n",
    "session = requests_cache.CachedSession('yfinance.cache')\n",
    "session.headers['User-agent'] = 'Mozilla/5.0 (Windows NT 10.0; Win64; x64) AppleWebKit/537.36 (KHTML, like Gecko) Chrome/58.0.3029.110 Safari/537.36'\n",
    "# ticker = yf.Ticker('AAPL', session=session)\n",
    "# # The scraped response will be stored in the cache\n",
    "# ticker.actions\n",
    "\n",
    "# class CachedLimiterSession(\n",
    "#     requests_cache.session.CacheMixin,\n",
    "#     requests_ratelimiter.LimiterMixin,\n",
    "#     requests.Session\n",
    "#     ):\n",
    "#     pass\n",
    "\n",
    "# session = CachedLimiterSession(\n",
    "#     limiter=pyrate_limiter.Limiter(\n",
    "#         pyrate_limiter.RequestRate(\n",
    "#             2, pyrate_limiter.Duration.SECOND*5\n",
    "#             ),  # max 2 requests per 5 seconds\n",
    "#     bucket_class=requests_ratelimiter.MemoryQueueBucket,\n",
    "#     backend=requests_cache.SQLiteCache(\"yfinance.cache\"),\n",
    "#     )\n",
    "# )"
   ]
  },
  {
   "cell_type": "code",
   "execution_count": null,
   "metadata": {},
   "outputs": [],
   "source": [
    "def chunks(chunk_list, no_of_chunks):\n",
    "    \"\"\"Yield successive n-sized chunks from list\"\"\"\n",
    "    for i in range(0, len(chunk_list), no_of_chunks):\n",
    "        yield chunk_list[i:i + no_of_chunks]"
   ]
  },
  {
   "cell_type": "code",
   "execution_count": null,
   "metadata": {},
   "outputs": [],
   "source": [
    "def fetch_sp500_data():\n",
    "    \"\"\"Fetches current financial market data from Yahoo finance public api\"\"\"\n",
    "    stocks = pd.read_csv('2023-06-01-sp500.csv')\n",
    "    load_dotenv()\n",
    "    aapl = yf.Ticker('AAPL', session=session)\n",
    "    new_columns = [*aapl.info.keys()]\n",
    "    result = pd.DataFrame(columns=new_columns)\n",
    "    symbol_groups = list(chunks(stocks['Ticker'], 101))\n",
    "    every_str = []\n",
    "    for i in range(0, len(symbol_groups)):\n",
    "        every_str.append(','.join(symbol_groups[i]))\n",
    "    temp = pd.DataFrame(columns=new_columns)\n",
    "    for symbol_string in every_str:\n",
    "        for stock in symbol_string.split(','):\n",
    "            this_stock = yf.Ticker(f\"{stock}\", session=session)\n",
    "            try:\n",
    "                temp = temp.append(\n",
    "                    pd.Series(\n",
    "                    [\n",
    "                    key for key in [*this_stock.info.values()]\n",
    "                    ],\n",
    "                    index = headings\n",
    "                    ),\n",
    "                    ignore_index=True\n",
    "            )\n",
    "            except(KeyError):\n",
    "                pass\n",
    "    return temp"
   ]
  },
  {
   "cell_type": "code",
   "execution_count": null,
   "metadata": {},
   "outputs": [],
   "source": [
    "\n",
    "def convert_sp500_data_to_csv():\n",
    "    \"\"\"Takes current data from the Yahoo finance metrics and returns as a CSV\"\"\"\n",
    "    final = fetch_sp500_data()\n",
    "    today = dt.datetime.today().strftime('%Y-%m-%d-%H-%M-%S')\n",
    "    final.to_csv(f'{today}-full_sp500_data.csv')"
   ]
  },
  {
   "cell_type": "code",
   "execution_count": null,
   "metadata": {},
   "outputs": [],
   "source": []
  }
 ],
 "metadata": {
  "kernelspec": {
   "display_name": "Python 3",
   "language": "python",
   "name": "python3"
  },
  "language_info": {
   "codemirror_mode": {
    "name": "ipython",
    "version": 3
   },
   "file_extension": ".py",
   "mimetype": "text/x-python",
   "name": "python",
   "nbconvert_exporter": "python",
   "pygments_lexer": "ipython3",
   "version": "3.11.3"
  },
  "orig_nbformat": 4
 },
 "nbformat": 4,
 "nbformat_minor": 2
}
