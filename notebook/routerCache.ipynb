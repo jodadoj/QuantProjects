{
 "cells": [
  {
   "cell_type": "code",
   "execution_count": null,
   "metadata": {},
   "outputs": [],
   "source": [
    "# api/urls\n",
    "\n",
    "\n",
    "# from django.contrib import admin\n",
    "# from django.urls import path, include\n",
    "# from .router import router\n",
    "\n",
    "# urlpatterns = [\n",
    "#     # path(\"admin/\", admin.site.urls),\n",
    "#     path('api/', include('api.urls')),\n",
    "#     path('', include(router.urls))\n",
    "# ]\n",
    "\n",
    "from django.urls import path, include\n",
    "from rest_framework import routers\n",
    "from .viewsets import StocksViewSet, LiveStocksViewSet\n",
    "# from .views import StocksView\n",
    "\n",
    "router = routers.DefaultRouter()\n",
    "router.register(r'LiveStocks', LiveStocksViewSet)\n",
    "router.register(r'Stocks', StocksViewSet)\n",
    "\n",
    "urlpatterns = [\n",
    "    # path('', StocksViewSet()),\n",
    "    path(\"\", include(router.urls)),\n",
    "    path('api-auth/', include('rest_framework.urls',\n",
    "                              namespace='rest_framework'))\n",
    "]\n"
   ]
  },
  {
   "cell_type": "code",
   "execution_count": null,
   "metadata": {},
   "outputs": [],
   "source": [
    "#quantprojects/router.py\n",
    "from rest_framework import routers\n",
    "from api.viewsets import StocksViewSet, LiveStocksViewSet\n",
    "\n",
    "router = routers.DefaultRouter()\n",
    "router.register('stocks', StocksViewSet, basename='stock')\n",
    "router.register('livestocks', LiveStocksViewSet, basename='livestock')\n"
   ]
  }
 ],
 "metadata": {
  "language_info": {
   "name": "python"
  },
  "orig_nbformat": 4
 },
 "nbformat": 4,
 "nbformat_minor": 2
}
