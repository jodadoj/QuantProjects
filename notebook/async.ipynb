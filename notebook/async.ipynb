{
 "cells": [
  {
   "attachments": {},
   "cell_type": "markdown",
   "metadata": {},
   "source": [
    "Synchronous programming - everything happening sequentially\n",
    "\n",
    "e.g. \n",
    "```\n",
    "def foo():\n",
    "    return\n",
    "\n",
    "foo()\n",
    "print('Hello world)\n",
    "```\n",
    "\n",
    "Each line takes time one after another\n",
    "Each bottlenecks the next and the total period is the runing time taken to go through every line\n",
    "\n",
    "Asynchronous programming - program flow is altered so you allow other operations run while waiting for a response from an original program\n",
    "\n",
    "Coroutine - a wrapper that allows you to run a function/subroutine asynchronously\n",
    "\n",
    "To use the await keyword you need to call it within a function\n",
    "\n",
    "Async-event loop - low level design pattern that switches threads to run the correct threads"
   ]
  },
  {
   "attachments": {},
   "cell_type": "markdown",
   "metadata": {},
   "source": [
    "Want to code small modular pieces of code then async./thread them seperate from the larger blocks of instructions"
   ]
  },
  {
   "attachments": {},
   "cell_type": "markdown",
   "metadata": {},
   "source": [
    "With async, only one thing can happen at a time\n",
    "\n",
    "When execution is paused then that time may be given back to another function/subroutine"
   ]
  },
  {
   "cell_type": "code",
   "execution_count": null,
   "metadata": {},
   "outputs": [],
   "source": [
    "import asyncio"
   ]
  },
  {
   "cell_type": "code",
   "execution_count": null,
   "metadata": {},
   "outputs": [],
   "source": [
    "\n",
    "async def main():\n",
    "    print('Hello')\n",
    "    foo('World')\n",
    "\n",
    "async def foo(text):\n",
    "    print(text)\n",
    "    await asyncio.sleep(1)\n",
    "\n",
    "loop = asyncio.run(main())\n",
    "\n",
    "# await main()\n",
    "loop"
   ]
  }
 ],
 "metadata": {
  "kernelspec": {
   "display_name": "Python 3",
   "language": "python",
   "name": "python3"
  },
  "language_info": {
   "codemirror_mode": {
    "name": "ipython",
    "version": 3
   },
   "file_extension": ".py",
   "mimetype": "text/x-python",
   "name": "python",
   "nbconvert_exporter": "python",
   "pygments_lexer": "ipython3",
   "version": "3.11.3"
  },
  "orig_nbformat": 4
 },
 "nbformat": 4,
 "nbformat_minor": 2
}
