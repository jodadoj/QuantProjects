{
 "cells": [
  {
   "cell_type": "code",
   "execution_count": null,
   "metadata": {},
   "outputs": [],
   "source": [
    "import yahooquery as yq\n",
    "import pandas as pd\n",
    "import datetime as dt\n",
    "import json\n",
    "import os\n",
    "import glob"
   ]
  },
  {
   "cell_type": "code",
   "execution_count": null,
   "metadata": {},
   "outputs": [],
   "source": [
    "TODAYS_DATE = dt.datetime.today().strftime(\"%Y-%m-%d\")"
   ]
  },
  {
   "cell_type": "code",
   "execution_count": null,
   "metadata": {},
   "outputs": [],
   "source": [
    "file_path = os.path.join(\n",
    "    f\"../src/output/sp500_lists/{TODAYS_DATE}-sp500.csv\",\n",
    ")\n",
    "list_of_files = glob.glob(\n",
    "    os.path.join(os.path.realpath(os.path.dirname(file_path)), \"*.csv\")\n",
    ")  # * means all if need specific format then *.csv\n",
    "latest_file = max(list_of_files, key=os.path.getctime)\n",
    "latest_file"
   ]
  },
  {
   "cell_type": "code",
   "execution_count": null,
   "metadata": {},
   "outputs": [],
   "source": [
    "stocks = pd.read_csv(latest_file)\n",
    "stocks"
   ]
  },
  {
   "cell_type": "code",
   "execution_count": null,
   "metadata": {},
   "outputs": [],
   "source": [
    "file_path='../src/output/2023-06-06-sp500.csv'\n",
    "stocks = pd.read_csv(file_path)\n",
    "stocks"
   ]
  },
  {
   "cell_type": "code",
   "execution_count": null,
   "metadata": {},
   "outputs": [],
   "source": [
    "list(stocks['Ticker'])"
   ]
  },
  {
   "cell_type": "code",
   "execution_count": null,
   "metadata": {},
   "outputs": [],
   "source": [
    "nasdaq_url = \"https://en.wikipedia.org/w/index.php?title=Nasdaq-100\"\n",
    "nasdaq_data = pd.read_html(nasdaq_url)\n",
    "\n",
    "nasdaq100 = nasdaq_data[4].iloc[0:, [0, 1]]\n",
    "nasdaq100"
   ]
  },
  {
   "cell_type": "code",
   "execution_count": null,
   "metadata": {},
   "outputs": [],
   "source": [
    "aapl = yq.Ticker('AAPL')\n",
    "data = aapl.all_modules\n",
    "data"
   ]
  },
  {
   "cell_type": "code",
   "execution_count": null,
   "metadata": {},
   "outputs": [],
   "source": [
    "data['AAPL'].keys()"
   ]
  },
  {
   "cell_type": "code",
   "execution_count": null,
   "metadata": {},
   "outputs": [],
   "source": [
    "temp = pd.DataFrame([list(data['AAPL'].values())], columns=list(data['AAPL'].keys()))\n",
    "temp"
   ]
  },
  {
   "cell_type": "code",
   "execution_count": null,
   "metadata": {},
   "outputs": [],
   "source": [
    "\n",
    "df = pd.DataFrame.from_dict(data['AAPL']['assetProfile']['companyOfficers'])\n",
    "df"
   ]
  },
  {
   "cell_type": "code",
   "execution_count": null,
   "metadata": {},
   "outputs": [],
   "source": [
    "temp_json = json.dumps(data)\n",
    "temp_json"
   ]
  },
  {
   "cell_type": "code",
   "execution_count": null,
   "metadata": {},
   "outputs": [],
   "source": [
    "\n",
    "with open(\"../src/output/data2.json\", \"w\") as outfile:\n",
    "    json.dump(data, outfile, indent=4, sort_keys=False)"
   ]
  },
  {
   "cell_type": "code",
   "execution_count": null,
   "metadata": {},
   "outputs": [],
   "source": [
    "len('AAPL')"
   ]
  },
  {
   "cell_type": "code",
   "execution_count": null,
   "metadata": {},
   "outputs": [],
   "source": [
    "def save_single_stock(ticker):\n",
    "    \"\"\"\n",
    "    Downloads all inform of a destignated ticker passed to the function through Yahoo Finance\n",
    "    \n",
    "\n",
    "    Arguments\n",
    "    ----------\n",
    "    ticker: str\n",
    "        Ticker symbol for the stock to be grabbed\n",
    "    \n",
    "    Notes\n",
    "    -----\n",
    "    The function also takes a list of strings but this is unwanted behaviour\n",
    "    (Hence the try catch)\n",
    "        \n",
    "    \"\"\"\n",
    "\n",
    "    current_stock = yq.Ticker(ticker, asynchronous=True)\n",
    "    current_stock_data = current_stock.all_modules\n",
    "\n",
    "    save_path = f\"../src/output/individual_stock_data/{TODAYS_DATE}/{TODAYS_DATE}-{ticker}-data.json\"\n",
    "\n",
    "    try:\n",
    "        os.makedirs(f\"../src/output/individual_stock_data/{TODAYS_DATE}\")\n",
    "    except FileExistsError:\n",
    "        pass\n",
    "\n",
    "    with open(save_path, \"w\", encoding=\"utf-8\") as outfile:\n",
    "        json.dump(current_stock_data, outfile, indent=4, sort_keys=False)"
   ]
  },
  {
   "cell_type": "code",
   "execution_count": null,
   "metadata": {},
   "outputs": [],
   "source": [
    "save_single_stock(['AAPL', 'MSFT'])"
   ]
  }
 ],
 "metadata": {
  "kernelspec": {
   "display_name": "Python 3",
   "language": "python",
   "name": "python3"
  },
  "language_info": {
   "codemirror_mode": {
    "name": "ipython",
    "version": 3
   },
   "file_extension": ".py",
   "mimetype": "text/x-python",
   "name": "python",
   "nbconvert_exporter": "python",
   "pygments_lexer": "ipython3",
   "version": "3.11.3"
  },
  "orig_nbformat": 4
 },
 "nbformat": 4,
 "nbformat_minor": 2
}
