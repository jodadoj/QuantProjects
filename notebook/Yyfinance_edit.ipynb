{
 "cells": [
  {
   "cell_type": "code",
   "execution_count": null,
   "metadata": {},
   "outputs": [],
   "source": [
    "import os\n",
    "import numpy as np\n",
    "import pandas as pd\n",
    "import requests\n",
    "import xlsxwriter \n",
    "import math\n",
    "import yfinance as yf\n",
    "from dotenv import load_dotenv\n",
    "# import requests\n",
    "import requests_cache\n",
    "import requests_ratelimiter\n",
    "import pyrate_limiter\n",
    "\n",
    "\n",
    "session = requests_cache.CachedSession('yfinance.cache')\n",
    "session.headers['User-agent'] = 'Mozilla/5.0 (Windows NT 10.0; Win64; x64) AppleWebKit/537.36 (KHTML, like Gecko) Chrome/58.0.3029.110 Safari/537.36'\n",
    "# ticker = yf.Ticker('AAPL', session=session)\n",
    "# # The scraped response will be stored in the cache\n",
    "# ticker.actions\n",
    "\n",
    "# class CachedLimiterSession(\n",
    "#     requests_cache.session.CacheMixin,\n",
    "#     requests_ratelimiter.LimiterMixin,\n",
    "#     requests.Session\n",
    "#     ):\n",
    "#     pass\n",
    "\n",
    "# session = CachedLimiterSession(\n",
    "#     limiter=pyrate_limiter.Limiter(\n",
    "#         pyrate_limiter.RequestRate(\n",
    "#             2, pyrate_limiter.Duration.SECOND*5\n",
    "#             ),  # max 2 requests per 5 seconds\n",
    "#     bucket_class=requests_ratelimiter.MemoryQueueBucket,\n",
    "#     backend=requests_cache.SQLiteCache(\"yfinance.cache\"),\n",
    "#     )\n",
    "# )\n"
   ]
  },
  {
   "cell_type": "code",
   "execution_count": null,
   "metadata": {},
   "outputs": [],
   "source": [
    "import datetime as dt\n",
    "import os"
   ]
  },
  {
   "cell_type": "code",
   "execution_count": null,
   "metadata": {},
   "outputs": [],
   "source": [
    "stocks = pd.read_csv('2023-06-01-sp500.csv')\n",
    "load_dotenv()"
   ]
  },
  {
   "cell_type": "code",
   "execution_count": null,
   "metadata": {},
   "outputs": [],
   "source": [
    "stocks"
   ]
  },
  {
   "cell_type": "code",
   "execution_count": null,
   "metadata": {},
   "outputs": [],
   "source": [
    "symbol = \"AAPL\"\n",
    "currentStock = yf.Ticker(f\"{symbol}\", session=session)\n",
    "currentStock.info"
   ]
  },
  {
   "cell_type": "code",
   "execution_count": null,
   "metadata": {},
   "outputs": [],
   "source": [
    "currentStock.actions"
   ]
  },
  {
   "cell_type": "code",
   "execution_count": null,
   "metadata": {},
   "outputs": [],
   "source": [
    "currentStock.info['currentPrice']"
   ]
  },
  {
   "cell_type": "code",
   "execution_count": null,
   "metadata": {},
   "outputs": [],
   "source": [
    "currentStock.info['marketCap']"
   ]
  },
  {
   "cell_type": "code",
   "execution_count": null,
   "metadata": {},
   "outputs": [],
   "source": [
    "headings = [ 'Ticker', 'Stock Price', 'Market Capitalisation', 'Number of Shares to Buy']\n",
    "result = pd.DataFrame(columns=headings)\n",
    "\n",
    "result"
   ]
  },
  {
   "cell_type": "code",
   "execution_count": null,
   "metadata": {},
   "outputs": [],
   "source": [
    "def chunks(list, n):\n",
    "    \"\"\"Yield successive n-sized chunks from list\"\"\"\n",
    "    for i in range(0, len(list), n):\n",
    "        yield list[i:i + n]"
   ]
  },
  {
   "cell_type": "code",
   "execution_count": null,
   "metadata": {},
   "outputs": [],
   "source": [
    "symbol_groups = list(chunks(stocks['Ticker'], 101))\n",
    "\n",
    "symbol_groups"
   ]
  },
  {
   "cell_type": "code",
   "execution_count": null,
   "metadata": {},
   "outputs": [],
   "source": [
    "every_str = []\n",
    "for i in range(0, len(symbol_groups)):\n",
    "    every_str.append(','.join(symbol_groups[i]))\n",
    "every_str"
   ]
  },
  {
   "cell_type": "code",
   "execution_count": null,
   "metadata": {},
   "outputs": [],
   "source": [
    "current_values = pd.DataFrame(columns=headings)\n",
    "for symbol_string in every_str:\n",
    "    for stock in symbol_string.split(','):\n",
    "        this_stock = yf.Ticker(f\"{stock}\", session=session)\n",
    "        try:\n",
    "            current_values = current_values.append(\n",
    "                pd.Series(\n",
    "                [\n",
    "                    stock,\n",
    "                    this_stock.info['currentPrice'],\n",
    "                    this_stock.info['marketCap'],\n",
    "                    \"N/A\"\n",
    "                ],\n",
    "                index = headings\n",
    "                ),\n",
    "                ignore_index=True\n",
    "        )\n",
    "        except(KeyError):\n",
    "            pass\n",
    "current_values"
   ]
  },
  {
   "cell_type": "code",
   "execution_count": null,
   "metadata": {},
   "outputs": [],
   "source": [
    "current_values"
   ]
  },
  {
   "cell_type": "code",
   "execution_count": null,
   "metadata": {},
   "outputs": [],
   "source": [
    "today = dt.datetime.today().strftime('%Y-%m-%d-%H-%M-%S')    \n",
    "current_values.to_csv(f'{today}-full_sp500_data.csv')"
   ]
  },
  {
   "cell_type": "code",
   "execution_count": null,
   "metadata": {},
   "outputs": [],
   "source": [
    "full_list = list(stocks['Ticker'])\n",
    "current_values = pd.DataFrame(columns=headings)\n",
    "for stock in full_list:\n",
    "    this_stock = yf.Ticker(f\"{stock}\", session=session)\n",
    "    current_values = current_values.append(\n",
    "    pd.Series(\n",
    "    [\n",
    "        stock,\n",
    "        this_stock.info['currentPrice'],\n",
    "        this_stock.info['marketCap'],\n",
    "        \"N/A\"\n",
    "    ],\n",
    "    index = headings\n",
    "    ),\n",
    "    ignore_index=True\n",
    ")\n",
    "\n",
    "current_values"
   ]
  },
  {
   "cell_type": "code",
   "execution_count": null,
   "metadata": {},
   "outputs": [],
   "source": [
    "current_values"
   ]
  },
  {
   "cell_type": "code",
   "execution_count": null,
   "metadata": {},
   "outputs": [],
   "source": [
    "aapl = yf.Ticker('AAPL', session=session)\n",
    "\n",
    "aapl.info"
   ]
  },
  {
   "cell_type": "code",
   "execution_count": null,
   "metadata": {},
   "outputs": [],
   "source": [
    "new_columns = [*aapl.info.keys()]\n",
    "new_columns #at some points taake all of these keys and put into csv"
   ]
  },
  {
   "cell_type": "code",
   "execution_count": null,
   "metadata": {},
   "outputs": [],
   "source": [
    "[*aapl.info.values()]"
   ]
  },
  {
   "cell_type": "code",
   "execution_count": null,
   "metadata": {},
   "outputs": [],
   "source": [
    "aapl_df = pd.DataFrame(columns=new_columns)\n",
    "aapl_df = aapl_df.append(\n",
    "    pd.Series(\n",
    "        [*aapl.info.values()],\n",
    "        index = headings\n",
    "        ),\n",
    "        ignore_index=True\n",
    "    )\n",
    "\n",
    "aapl_df"
   ]
  },
  {
   "cell_type": "code",
   "execution_count": null,
   "metadata": {},
   "outputs": [],
   "source": [
    "val = None\n",
    "\n",
    "while val == None:\n",
    "    portfolio_size = input('Enter the value of your portfolio: ')\n",
    "    try:\n",
    "        val = float(portfolio_size)\n",
    "    except(ValueError):\n",
    "        print('Not a number, please enter a legitamate value:')\n",
    "\n",
    "val"
   ]
  },
  {
   "cell_type": "code",
   "execution_count": null,
   "metadata": {},
   "outputs": [],
   "source": [
    "\n",
    "today = dt.datetime.today().strftime('%Y-%m-%d-%H-%M-%S')\n",
    "current_values = pd.read_csv(f'{today}-full_sp500_data.csv')"
   ]
  },
  {
   "cell_type": "code",
   "execution_count": null,
   "metadata": {},
   "outputs": [],
   "source": [
    "current_values = pd.read_csv('2023-06-01-15-54-22-full_sp500_data.csv')\n",
    "\n",
    "current_values = current_values.drop('Unnamed: 0', axis=1)\n",
    "\n",
    "position_size = val/len(current_values.index)\n",
    "for i in range(0, len(current_values.index)):\n",
    "    current_values.loc[i, 'Number of Shares to Buy'] = math.floor(position_size / current_values['Stock Price'][i])\n",
    "\n",
    "current_values"
   ]
  },
  {
   "cell_type": "code",
   "execution_count": null,
   "metadata": {},
   "outputs": [],
   "source": [
    "file_path='.\\{today}-recommended_trades.xlsx'\n",
    "\n",
    "writer = pd.ExcelWriter(file_path, engine='xlsxwriter')\n",
    "current_values.to_excel(writer, sheet_name='Recommended Trades', index = False)"
   ]
  },
  {
   "cell_type": "code",
   "execution_count": null,
   "metadata": {},
   "outputs": [],
   "source": [
    "__file__"
   ]
  },
  {
   "cell_type": "code",
   "execution_count": null,
   "metadata": {},
   "outputs": [],
   "source": [
    "background_color = '#0a0a23'\n",
    "font_color = '#ffffff'\n",
    "\n",
    "string_format = writer.book.add_format(\n",
    "        {\n",
    "            'font_color': font_color,\n",
    "            'bg_color': background_color,\n",
    "            'border': 1\n",
    "        }\n",
    "    )\n",
    "\n",
    "dollar_format = writer.book.add_format(\n",
    "        {\n",
    "            'num_format':'$0.00',\n",
    "            'font_color': font_color,\n",
    "            'bg_color': background_color,\n",
    "            'border': 1\n",
    "        }\n",
    "    )\n",
    "\n",
    "integer_format = writer.book.add_format(\n",
    "        {\n",
    "            'num_format':'0',\n",
    "            'font_color': font_color,\n",
    "            'bg_color': background_color,\n",
    "            'border': 1\n",
    "        }\n",
    "    )"
   ]
  },
  {
   "cell_type": "code",
   "execution_count": null,
   "metadata": {},
   "outputs": [],
   "source": [
    "column_formats = { \n",
    "                    'A': ['Ticker', string_format],\n",
    "                    'B': ['Price', dollar_format],\n",
    "                    'C': ['Market Capitalization', dollar_format],\n",
    "                    'D': ['Number of Shares to Buy', integer_format]\n",
    "                    }\n",
    "\n",
    "for column in column_formats.keys():\n",
    "    writer.sheets['Recommended Trades'].set_column(f'{column}:{column}', 20, column_formats[column][1])\n",
    "    writer.sheets['Recommended Trades'].write(f'{column}1', column_formats[column][0], string_format)"
   ]
  },
  {
   "cell_type": "code",
   "execution_count": null,
   "metadata": {},
   "outputs": [],
   "source": [
    "writer.save()"
   ]
  }
 ],
 "metadata": {
  "kernelspec": {
   "display_name": "Python 3",
   "language": "python",
   "name": "python3"
  },
  "language_info": {
   "codemirror_mode": {
    "name": "ipython",
    "version": 3
   },
   "file_extension": ".py",
   "mimetype": "text/x-python",
   "name": "python",
   "nbconvert_exporter": "python",
   "pygments_lexer": "ipython3",
   "version": "3.11.3"
  },
  "orig_nbformat": 4
 },
 "nbformat": 4,
 "nbformat_minor": 2
}
