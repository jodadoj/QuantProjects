{
 "cells": [
  {
   "attachments": {},
   "cell_type": "markdown",
   "metadata": {},
   "source": [
    "Docker is a way to package software so it can run on any hardware using\n",
    "    A dockerfile\n",
    "        A way to build an image\n",
    "    An image\n",
    "        A way to run the container\n",
    "    A container\n",
    "        A running process\n",
    "Docker reproduces the environment in the cloud using an image to run the process in the exact same way every time regardless of the physical machine\n",
    "\n"
   ]
  },
  {
   "attachments": {},
   "cell_type": "markdown",
   "metadata": {},
   "source": [
    "Commands\n",
    "\n",
    "docker ps - gives a list of all running containers on the system\n",
    "    each container has a unique id and is linked to an image\n",
    "\n",
    "docker build - builds the image\n",
    "    want to tag using -t and then [user name]/[some useful msg]:[semantic version]\n",
    "    after tagging write the directory to the dockerfile\n",
    "    e.g. docker build -t jodadoj/quant:5.0.1 . \n",
    "\n",
    "docker run  - runs a given container by taking it's id as the argument\n",
    "    e.g. docker run abc1234567890\n",
    "\n",
    "docker push - push a container to a registry\n",
    "\n",
    "docker pull - pull a container from a registry\n",
    "\n",
    "docker volume create - creates volume to store files from containers\n",
    "    can use the --mount switch on run to set the files stored\n",
    "    e.g. docker run --mount source=shared_perm, target=/shared_temp\n"
   ]
  },
  {
   "cell_type": "code",
   "execution_count": null,
   "metadata": {
    "vscode": {
     "languageId": "plaintext"
    }
   },
   "outputs": [],
   "source": [
    "Docker file\n",
    "\n",
    "FROM a selected environment - can be from a list of online presets e.g. the official Python lists \n",
    "\n",
    "Then set the WORKDIR. This is by default \"/\" in the root of the project where the dockerfile itself exists \n",
    "\n",
    "COPY the local environment using requirements.txt, environment.yaml, package*.json etc \n",
    "\n",
    "then RUN the terminal command to install e.g. pip install -r requirements.txt\n",
    "\n",
    "COPY the contents of the directory after using the .dockerignore file to ignore unwanted folders and files \n",
    "\n",
    "We can set the environment variables using the ENV command \n",
    "\n",
    "e.g. ENV ELEPHANTSQL_PORT = 5432\n",
    "\n",
    "We set the port for the docker contain using expose\n",
    "\n",
    "e.g. EXPOSE 8080\n",
    "\n",
    "then we run the commands for the program from a list\n",
    "\n",
    "e.g. CMD [\"python ./src/wiki_web_scraper.py\"]"
   ]
  },
  {
   "cell_type": "code",
   "execution_count": null,
   "metadata": {
    "vscode": {
     "languageId": "plaintext"
    }
   },
   "outputs": [],
   "source": [
    "We can upload our docker containers online to allow users to push and pull from a registry like github repos\n",
    "\n",
    "We can also create volumes to store data inbetween the lives of our containers\n",
    "    This allows data to persist between container runs and be shared"
   ]
  },
  {
   "attachments": {},
   "cell_type": "markdown",
   "metadata": {},
   "source": [
    "Each docker container should only run one process.\n",
    "\n",
    "Multiple processes should mean multiple containers\n",
    "\n",
    "We use docker compose and docker-compose.yml to define a persitent set of features across multiple container runs (v similar to github actions and CI/CD)"
   ]
  },
  {
   "cell_type": "code",
   "execution_count": null,
   "metadata": {
    "vscode": {
     "languageId": "plaintext"
    }
   },
   "outputs": [],
   "source": [
    "version: '3'\n",
    "services:\n",
    "  web:\n",
    "    build: .\n",
    "    ports:\n",
    "      - \"8080:8080\"\n",
    "  db:\n",
    "    image: \"mysql\"\n",
    "    environment:\n",
    "      ROOT_PASSWORD: password\n",
    "    volumes:\n",
    "      - db-data:/foo\n",
    "\n",
    "  volumes:\n",
    "    db-data:\n",
    "\n",
    "\n",
    "An example docker-compose\n",
    "\n",
    "The services key takes each key given as a value and runs them in order \n",
    "    e.g. web then db are run\n",
    "The volumes key specifies the volumes we're running in the processes\n",
    "\n",
    "\n",
    "Once finished we use the command docker compose up to run all the given containers"
   ]
  }
 ],
 "metadata": {
  "language_info": {
   "name": "python"
  },
  "orig_nbformat": 4
 },
 "nbformat": 4,
 "nbformat_minor": 2
}
