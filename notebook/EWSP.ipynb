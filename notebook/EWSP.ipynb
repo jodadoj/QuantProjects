{
 "cells": [
  {
   "cell_type": "code",
   "execution_count": null,
   "metadata": {},
   "outputs": [],
   "source": [
    "import os\n",
    "import numpy as np\n",
    "import pandas as pd\n",
    "import requests\n",
    "import xlsxwriter \n",
    "import math\n",
    "import yfinance as yf\n",
    "from dotenv import load_dotenv\n"
   ]
  },
  {
   "cell_type": "code",
   "execution_count": null,
   "metadata": {},
   "outputs": [],
   "source": [
    "stocks = pd.read_csv('sp_500_stocks.csv')\n",
    "load_dotenv()\n",
    "\n",
    "iex_api_key = os.environ.get(\"IEX_CLOUD_API_TOKEN\")\n",
    "av_api_key = os.environ.get('ALPHA_VANTAGE_API_TOKEN')\n",
    "\n",
    "stocks"
   ]
  },
  {
   "cell_type": "code",
   "execution_count": null,
   "metadata": {},
   "outputs": [],
   "source": [
    "symbol = 'AAPL'\n",
    "api_url = f'https://sandbox.iexapis.com/stable/stock/{symbol}/quote/?token={av_api_key}'\n",
    "data = requests.get(api_url)\n",
    "print(data.status_code)"
   ]
  },
  {
   "cell_type": "code",
   "execution_count": null,
   "metadata": {},
   "outputs": [],
   "source": [
    "symbol = 'AAPL'\n",
    "overview_url = f'https://www.alphavantage.co/query?function=OVERVIEW&symbol={symbol}&apikey={av_api_key}'\n",
    "req = requests.get(overview_url)\n",
    "overview_data = req.json()\n",
    "\n",
    "overview_data"
   ]
  },
  {
   "cell_type": "code",
   "execution_count": null,
   "metadata": {},
   "outputs": [],
   "source": [
    "time_series_url = f'https://www.alphavantage.co/query?function=TIME_SERIES_INTRADAY&symbol={symbol}&interval=5min&apikey={av_api_key}'\n",
    "req = requests.get(time_series_url)\n",
    "time_series_data = req.json()\n",
    "last_refresh = time_series_data['Meta Data']['3. Last Refreshed']\n",
    "recent_prices = time_series_data['Time Series (5min)'][f'{last_refresh}']\n",
    "open_price = recent_prices['1. open']\n",
    "high_price = recent_prices['2. high']\n",
    "low_price = recent_prices['3. low']\n",
    "close_price = recent_prices['4. close']\n",
    "volume_price = recent_prices['5. volume']\n",
    "\n",
    "recent_prices"
   ]
  },
  {
   "cell_type": "code",
   "execution_count": null,
   "metadata": {},
   "outputs": [],
   "source": [
    "close_price"
   ]
  },
  {
   "cell_type": "code",
   "execution_count": null,
   "metadata": {},
   "outputs": [],
   "source": [
    "market_cap"
   ]
  },
  {
   "cell_type": "code",
   "execution_count": null,
   "metadata": {},
   "outputs": [],
   "source": [
    "headings = [ 'Ticker', 'Stock Price', 'Market Capitalisation', 'Number of Shares to Buy']\n",
    "result = pd.DataFrame(columns=headings)\n",
    "\n",
    "result"
   ]
  },
  {
   "cell_type": "code",
   "execution_count": null,
   "metadata": {},
   "outputs": [],
   "source": [
    "result.append(\n",
    "    pd.Series(\n",
    "    [\n",
    "        symbol,\n",
    "        close_price,\n",
    "        market_cap,\n",
    "        \"N/A\"\n",
    "    ],\n",
    "    index = headings\n",
    "    ),\n",
    "    ignore_index=True\n",
    ")"
   ]
  },
  {
   "cell_type": "code",
   "execution_count": null,
   "metadata": {},
   "outputs": [],
   "source": [
    "final = pd.DataFrame(columns=headings)\n",
    "for stock in stocks['Ticker']:\n",
    "    final = final.append(\n",
    "    pd.Series(\n",
    "    [\n",
    "        symbol,\n",
    "        close_price,\n",
    "        market_cap,\n",
    "        \"N/A\"\n",
    "    ],\n",
    "    index = headings\n",
    "    ),\n",
    ")"
   ]
  },
  {
   "cell_type": "code",
   "execution_count": null,
   "metadata": {},
   "outputs": [],
   "source": [
    "def chunks(list, n):\n",
    "    \"\"\"Yield successive n-sized chunks from list\"\"\"\n",
    "    for i in range(0, len(list), n):\n",
    "        yield list[i:i + n]"
   ]
  },
  {
   "cell_type": "code",
   "execution_count": null,
   "metadata": {},
   "outputs": [],
   "source": [
    "symbol_groups = list(chunks(stocks['Ticker'], 100))"
   ]
  },
  {
   "cell_type": "markdown",
   "metadata": {},
   "source": []
  }
 ],
 "metadata": {
  "kernelspec": {
   "display_name": "Python 3",
   "language": "python",
   "name": "python3"
  },
  "language_info": {
   "codemirror_mode": {
    "name": "ipython",
    "version": 3
   },
   "file_extension": ".py",
   "mimetype": "text/x-python",
   "name": "python",
   "nbconvert_exporter": "python",
   "pygments_lexer": "ipython3",
   "version": "3.11.3"
  },
  "orig_nbformat": 4
 },
 "nbformat": 4,
 "nbformat_minor": 2
}
