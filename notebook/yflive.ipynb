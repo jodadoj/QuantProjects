{
 "cells": [
  {
   "cell_type": "code",
   "execution_count": null,
   "metadata": {},
   "outputs": [],
   "source": [
    "from yflive import QuoteStreamer\n",
    "\n",
    "qs = QuoteStreamer()\n",
    "qs.subscribe([\"AAPL\", \"TSLA\"]) \n",
    "\n",
    "qs.on_quote = lambda qs, q: print(q)\n",
    "\n",
    "# Non-blocking if should_thread=True (default is False)\n",
    "qs.start(should_thread=False)"
   ]
  },
  {
   "cell_type": "code",
   "execution_count": null,
   "metadata": {},
   "outputs": [],
   "source": [
    "import yliveticker\n",
    "\n",
    "\n",
    "# this function is called on each ticker update\n",
    "def on_new_msg(ws, msg):\n",
    "    print(msg)\n",
    "\n",
    "\n",
    "yliveticker.YLiveTicker(on_ticker=on_new_msg, ticker_names=[\n",
    "    \"AAPL\"])"
   ]
  }
 ],
 "metadata": {
  "kernelspec": {
   "display_name": "Python 3",
   "language": "python",
   "name": "python3"
  },
  "language_info": {
   "codemirror_mode": {
    "name": "ipython",
    "version": 3
   },
   "file_extension": ".py",
   "mimetype": "text/x-python",
   "name": "python",
   "nbconvert_exporter": "python",
   "pygments_lexer": "ipython3",
   "version": "3.11.3"
  },
  "orig_nbformat": 4
 },
 "nbformat": 4,
 "nbformat_minor": 2
}
