{
 "cells": [
  {
   "cell_type": "code",
   "execution_count": null,
   "metadata": {},
   "outputs": [],
   "source": [
    "from yflive import QuoteStreamer\n",
    "\n",
    "qs = QuoteStreamer()\n",
    "qs.subscribe([\"AAPL\", \"TSLA\"]) \n",
    "\n",
    "qs.on_quote = lambda qs, q: print(q)\n",
    "\n",
    "# Non-blocking if should_thread=True (default is False)\n",
    "qs.start(should_thread=False)"
   ]
  },
  {
   "cell_type": "code",
   "execution_count": 1,
   "metadata": {},
   "outputs": [
    {
     "name": "stderr",
     "output_type": "stream",
     "text": [
      "[2023-08-08 08:26:10.588904] ### connection is open ###\n",
      "[2023-08-08 08:28:31.026127] \n",
      "[2023-08-08 08:28:31.129881] ### connection is closed ###\n"
     ]
    },
    {
     "data": {
      "text/plain": [
       "<yliveticker.YLiveTicker at 0x2bf3f17c210>"
      ]
     },
     "execution_count": 1,
     "metadata": {},
     "output_type": "execute_result"
    }
   ],
   "source": [
    "import yliveticker\n",
    "\n",
    "\n",
    "# this function is called on each ticker update\n",
    "def on_new_msg(ws, msg):\n",
    "    print(msg)\n",
    "\n",
    "\n",
    "yliveticker.YLiveTicker(on_ticker=on_new_msg, ticker_names=[\n",
    "    \"AAPL\"])"
   ]
  },
  {
   "cell_type": "code",
   "execution_count": 2,
   "metadata": {},
   "outputs": [],
   "source": [
    "import json"
   ]
  },
  {
   "cell_type": "code",
   "execution_count": 6,
   "metadata": {},
   "outputs": [],
   "source": [
    "raw = {'id': 'AAPL', 'exchange': 'NMS', 'quoteType': 8, 'price': 189.13999938964844, 'timestamp': 1688996547000, 'marketHours': 1, 'changePercent': -0.807632327079773, 'dayVolume': 5987680, 'change': -1.5399932861328125, 'priceHint': 2}"
   ]
  },
  {
   "cell_type": "code",
   "execution_count": 12,
   "metadata": {},
   "outputs": [
    {
     "data": {
      "text/plain": [
       "{'id': 'AAPL',\n",
       " 'exchange': 'NMS',\n",
       " 'quoteType': 8,\n",
       " 'price': 189.13999938964844,\n",
       " 'timestamp': 1688996547000,\n",
       " 'marketHours': 1,\n",
       " 'changePercent': -0.807632327079773,\n",
       " 'dayVolume': 5987680,\n",
       " 'change': -1.5399932861328125,\n",
       " 'priceHint': 2}"
      ]
     },
     "execution_count": 12,
     "metadata": {},
     "output_type": "execute_result"
    }
   ],
   "source": [
    "format = json.dumps(raw)\n",
    "end = json.loads(format)\n",
    "end"
   ]
  },
  {
   "cell_type": "code",
   "execution_count": 13,
   "metadata": {},
   "outputs": [
    {
     "name": "stdout",
     "output_type": "stream",
     "text": [
      "id\n",
      "exchange\n",
      "quoteType\n",
      "price\n",
      "timestamp\n",
      "marketHours\n",
      "changePercent\n",
      "dayVolume\n",
      "change\n",
      "priceHint\n"
     ]
    }
   ],
   "source": [
    "for key in end.keys():\n",
    "    print(key + ',')"
   ]
  },
  {
   "cell_type": "code",
   "execution_count": null,
   "metadata": {},
   "outputs": [],
   "source": [
    "\"\"\"\n",
    "    Returns full price history for a single stock\n",
    "\n",
    "    Functions\n",
    "    ---------\n",
    "    save_single_stock_price_history(string) -> object\n",
    "\n",
    "    Notes\n",
    "    -----\n",
    "    TODAYS_DATE = the date to be recorded on the file system\n",
    "\"\"\"\n",
    "import os\n",
    "import json\n",
    "import datetime as dt\n",
    "import yahooquery as yq\n",
    "import pandas as pd\n",
    "\n",
    "TODAYS_DATE = dt.datetime.today().strftime(\"%Y-%m-%d\")\n",
    "ticker ='AAPL'\n",
    "\n",
    "save_path = os.path.realpath(\n",
    "        f\"../src/output/stock_price_history/{TODAYS_DATE}/{TODAYS_DATE}-{ticker}-prices.csv\",\n",
    "    )\n",
    "\n",
    "try:\n",
    "    os.makedirs(os.path.realpath(os.path.dirname(save_path)))\n",
    "except FileExistsError:\n",
    "    pass\n",
    "\n",
    "if not os.path.isfile(save_path):\n",
    "    current_stock = yq.Ticker(ticker, asynchronous=True)\n",
    "    current_stock_history = current_stock.history(period='10y', interval='1d')\n",
    "\n",
    "    current_stock_history.to_csv(save_path, index=False)\n"
   ]
  },
  {
   "cell_type": "code",
   "execution_count": null,
   "metadata": {},
   "outputs": [],
   "source": [
    "df = current_stock_history\n",
    "df"
   ]
  },
  {
   "cell_type": "code",
   "execution_count": null,
   "metadata": {},
   "outputs": [],
   "source": [
    "import pandas as pd"
   ]
  },
  {
   "cell_type": "code",
   "execution_count": null,
   "metadata": {},
   "outputs": [],
   "source": [
    "pd.DataFrame.to_json(df)"
   ]
  },
  {
   "cell_type": "code",
   "execution_count": null,
   "metadata": {},
   "outputs": [],
   "source": [
    "df2 = df.reset_index(level=0, drop =True)\n",
    "df2"
   ]
  },
  {
   "cell_type": "code",
   "execution_count": null,
   "metadata": {},
   "outputs": [],
   "source": [
    "df3 = df.to_json(orient='records', date_format='iso')\n",
    "print(df3)"
   ]
  },
  {
   "cell_type": "code",
   "execution_count": null,
   "metadata": {},
   "outputs": [],
   "source": [
    "parsed = json.loads(df3)\n",
    "parsed"
   ]
  },
  {
   "cell_type": "code",
   "execution_count": null,
   "metadata": {},
   "outputs": [],
   "source": [
    "'id',\n",
    "'exchange',\n",
    "'quoteType',\n",
    "'price',\n",
    "'timestamp',\n",
    "'marketHours',\n",
    "'changePercent',\n",
    "'dayVolume',\n",
    "'change',\n",
    "'priceHint'"
   ]
  }
 ],
 "metadata": {
  "kernelspec": {
   "display_name": "Python 3",
   "language": "python",
   "name": "python3"
  },
  "language_info": {
   "codemirror_mode": {
    "name": "ipython",
    "version": 3
   },
   "file_extension": ".py",
   "mimetype": "text/x-python",
   "name": "python",
   "nbconvert_exporter": "python",
   "pygments_lexer": "ipython3",
   "version": "3.11.3"
  },
  "orig_nbformat": 4
 },
 "nbformat": 4,
 "nbformat_minor": 2
}
