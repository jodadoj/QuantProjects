{
 "cells": [
  {
   "cell_type": "code",
   "execution_count": null,
   "metadata": {},
   "outputs": [],
   "source": [
    "import csv\n",
    "import os\n",
    "import json"
   ]
  },
  {
   "cell_type": "code",
   "execution_count": null,
   "metadata": {},
   "outputs": [],
   "source": [
    "AAPL_data_file = '../src/output/individual_stock_data/2023-06-20/2023-06-20-AAPL-data.json'\n",
    "AAPL_price_file = '../src/output/stock_price_history/2023-06-24/2023-06-24-AAPL-prices.csv'"
   ]
  },
  {
   "cell_type": "code",
   "execution_count": null,
   "metadata": {},
   "outputs": [],
   "source": [
    "jsonArray = []\n",
    "\n",
    "#read csv file\n",
    "with open(os.path.realpath(AAPL_price_file)) as csvf: \n",
    "    #load csv file data using csv library's dictionary reader\n",
    "    csvReader = csv.DictReader(csvf) \n",
    "\n",
    "    #convert each csv row into python dict\n",
    "    for row in csvReader: \n",
    "        #add this python dict to json array\n",
    "        jsonArray.append(row)\n",
    "\n",
    "jsonArray"
   ]
  },
  {
   "cell_type": "code",
   "execution_count": null,
   "metadata": {},
   "outputs": [],
   "source": [
    "import yahooquery as yq\n",
    "current_stock = yq.Ticker('AAPL', asynchronous=True)\n",
    "current_stock_history = current_stock.history(period='10y', interval='1d')"
   ]
  },
  {
   "cell_type": "code",
   "execution_count": null,
   "metadata": {},
   "outputs": [],
   "source": [
    "current_stock_history"
   ]
  },
  {
   "cell_type": "code",
   "execution_count": null,
   "metadata": {},
   "outputs": [],
   "source": [
    "import pandas as pd"
   ]
  },
  {
   "cell_type": "code",
   "execution_count": null,
   "metadata": {},
   "outputs": [],
   "source": [
    "pd.DataFrame.to_json(current_stock_history.drop('symbol'))"
   ]
  }
 ],
 "metadata": {
  "kernelspec": {
   "display_name": "Python 3",
   "language": "python",
   "name": "python3"
  },
  "language_info": {
   "codemirror_mode": {
    "name": "ipython",
    "version": 3
   },
   "file_extension": ".py",
   "mimetype": "text/x-python",
   "name": "python",
   "nbconvert_exporter": "python",
   "pygments_lexer": "ipython3",
   "version": "3.11.3"
  },
  "orig_nbformat": 4
 },
 "nbformat": 4,
 "nbformat_minor": 2
}
