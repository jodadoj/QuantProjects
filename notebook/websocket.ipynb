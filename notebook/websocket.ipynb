{
 "cells": [
  {
   "attachments": {},
   "cell_type": "markdown",
   "metadata": {},
   "source": [
    "wss://streamer.finance.yahoo.com"
   ]
  },
  {
   "attachments": {},
   "cell_type": "markdown",
   "metadata": {},
   "source": [
    "local area network (LAN) - anyone on your network can communicate\n",
    "public - anyone can connect\n",
    "\n",
    "Client server model\n",
    "    Starts with a server (can be many at once) \n",
    "    Thinking of games\n",
    "        The client is your own game\n",
    "        Would be a security risk to connect them directly\n",
    "            Instead a central location with a server is taken \n",
    "            More secure and less chances to easily cheat\n",
    "            Messages containing player actions are passed to the server\n",
    "            These then become responses showing every game what happens\n",
    "\n",
    "Have a modem - router and devices\n",
    "    modem has a public IP address for the location\n",
    "    router connects and pings devices after being pinged by modem\n",
    "    devices each have a local IP IPv4"
   ]
  },
  {
   "cell_type": "code",
   "execution_count": null,
   "metadata": {},
   "outputs": [],
   "source": [
    "import socket\n",
    "import threading"
   ]
  },
  {
   "cell_type": "code",
   "execution_count": null,
   "metadata": {},
   "outputs": [],
   "source": [
    "PORT = 6060 #any unused port\n",
    "SERVER = socket.gethostbyname(socket.gethostname())\n",
    "IP_ADDRESS = (SERVER, PORT)\n",
    "HEADER = 64\n",
    "FORMAT = 'utf-8'\n",
    "DISCONNECT_MESSAGE = \"!DISCONNECT\"\n",
    "SERVER"
   ]
  },
  {
   "cell_type": "code",
   "execution_count": null,
   "metadata": {},
   "outputs": [],
   "source": [
    "server = socket.socket(socket.AF_INET, socket.SOCK_STREAM)\n",
    "server.bind(IP_ADDRESS)\n",
    "server"
   ]
  },
  {
   "cell_type": "code",
   "execution_count": null,
   "metadata": {},
   "outputs": [],
   "source": [
    "def handle_client(conn, addr):\n",
    "    print(f'[NEW CONNECTION] {addr} connected.')\n",
    "\n",
    "    connected = True\n",
    "    while connected:\n",
    "        msg_length = conn.recv(HEADER).decode(FORMAT)\n",
    "        print(msg_length)\n",
    "        if msg_length: #as first mnessage will be empty\n",
    "            msg = conn.recv(msg_length).decode(FORMAT)\n",
    "            conn.send(\"Message recieved\".encode(\"FORMAT\"))\n",
    "            print(msg)\n",
    "            if (msg == DISCONNECT_MESSAGE):\n",
    "                connected = False\n",
    "                print(\"Disconnected from server\")\n",
    "            print(f'[{addr}] {msg}')\n",
    "\n",
    "    conn.close()\n",
    "\n",
    "def start():\n",
    "    server.listen()\n",
    "    print(f'SERVER IS LISTENING ON {SERVER}')\n",
    "    while True:\n",
    "        conn, addr = server.accept()\n",
    "        thread = threading.Thread(\n",
    "            target=handle_client,\n",
    "              args=(conn, addr)\n",
    "                                )\n",
    "        print(f'[ACTIVE CONNECTIONS] {threading.active_count() - 1}')\n",
    "\n",
    "print(\"[STARTING] server is starting\")\n",
    "start()"
   ]
  }
 ],
 "metadata": {
  "kernelspec": {
   "display_name": "Python 3",
   "language": "python",
   "name": "python3"
  },
  "language_info": {
   "codemirror_mode": {
    "name": "ipython",
    "version": 3
   },
   "file_extension": ".py",
   "mimetype": "text/x-python",
   "name": "python",
   "nbconvert_exporter": "python",
   "pygments_lexer": "ipython3",
   "version": "3.11.3"
  },
  "orig_nbformat": 4
 },
 "nbformat": 4,
 "nbformat_minor": 2
}
