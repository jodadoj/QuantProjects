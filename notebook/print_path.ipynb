{
 "cells": [
  {
   "cell_type": "code",
   "execution_count": null,
   "metadata": {},
   "outputs": [],
   "source": [
    "import os\n",
    "import glob\n",
    "import datetime as dt\n",
    "from save_single_stock_price_history import save_single_stock_price_history\n",
    "\n",
    "TODAYS_DATE = dt.datetime.today().strftime(\"%Y-%m-%d\")\n",
    "\n",
    "ticker = \"MSFT\"\n",
    "\n",
    "save_single_stock_price_history(ticker)\n",
    "\n",
    "save_path = os.path.realpath(\n",
    "    os.path.join(\n",
    "        os.path.dirname(__file__),\n",
    "        f\"../output/individual_stock_data/{TODAYS_DATE}/{TODAYS_DATE}-{ticker}-data.json\",\n",
    "    )\n",
    ")\n",
    "\n",
    "file_path = os.path.join(\n",
    "    os.path.dirname(os.path.realpath(__file__)),\n",
    "    f\"../output/sp500_lists/{TODAYS_DATE}-sp500.csv\",\n",
    ")\n",
    "print(file_path)\n",
    "\n",
    "list_of_files = glob.glob(\n",
    "    os.path.join(os.path.realpath(os.path.dirname(file_path)), \"*.csv\")\n",
    ")\n",
    "latest_file = max(list_of_files, key=os.path.getctime)\n",
    "\n",
    "print(latest_file)\n",
    "\n",
    "print(save_path)\n",
    "\n",
    "print(not os.path.isfile(file_path))\n",
    "\n",
    "def print_save_path():\n",
    "    return save_path\n"
   ]
  },
  {
   "cell_type": "code",
   "execution_count": null,
   "metadata": {},
   "outputs": [],
   "source": []
  }
 ],
 "metadata": {
  "language_info": {
   "name": "python"
  },
  "orig_nbformat": 4
 },
 "nbformat": 4,
 "nbformat_minor": 2
}
