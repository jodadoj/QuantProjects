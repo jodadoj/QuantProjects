{
 "cells": [
  {
   "cell_type": "code",
   "execution_count": null,
   "metadata": {},
   "outputs": [],
   "source": [
    "\"\"\"\n",
    "Threading test notebook for sandbox to mess with threading ideas\n",
    "\"\"\"\n",
    "import threading\n",
    "import time\n",
    "\n",
    "done = False\n",
    "def worker(text):\n",
    "    \"\"\"\n",
    "    example worker function for testing threading\n",
    "    \"\"\"\n",
    "    counter = 0\n",
    "    while not done:\n",
    "        time.sleep(1)\n",
    "        counter += 1\n",
    "        print(f\"{text}: {counter}\")\n",
    "\n",
    "def joiner(input):\n",
    "    while not done:\n",
    "        print(f\"Hi {input}\")\n",
    "\n",
    "#starts the worker function in another CPU thread and cancels it when no otehr thread runs\n",
    "#daemon stops when all else finsihes\n",
    "threading.Thread(\n",
    "    target=worker, \n",
    "    daemon=True,\n",
    "    args=(\"ABC\",) #needs comma - unsure why rn\n",
    "                 ).start() \n",
    "\n",
    "threading.Thread(\n",
    "    target=worker, \n",
    "    daemon=True,\n",
    "    args=(\"XYZ\",)\n",
    "                 ).start() \n",
    "\n",
    "third_thread = threading.Thread(\n",
    "    target=joiner,\n",
    "    daemon=True,\n",
    "    args=(\"Third\",)\n",
    ")\n",
    "#can also start like this\n",
    "third_thread.start()\n",
    "# third_thread.join() <- will skip code below and go to this function\n",
    "# creates an infinite loop so avoiding for now\n",
    "\n",
    "input(\"Press enter to quit\")\n",
    "done = True"
   ]
  }
 ],
 "metadata": {
  "kernelspec": {
   "display_name": "Python 3",
   "language": "python",
   "name": "python3"
  },
  "language_info": {
   "codemirror_mode": {
    "name": "ipython",
    "version": 3
   },
   "file_extension": ".py",
   "mimetype": "text/x-python",
   "name": "python",
   "nbconvert_exporter": "python",
   "pygments_lexer": "ipython3",
   "version": "3.11.3"
  },
  "orig_nbformat": 4
 },
 "nbformat": 4,
 "nbformat_minor": 2
}
